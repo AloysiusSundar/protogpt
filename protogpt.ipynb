{
 "cells": [
  {
   "cell_type": "code",
   "execution_count": 27,
   "id": "98b16580-f5c4-40a7-a410-09d872ddba22",
   "metadata": {},
   "outputs": [
    {
     "name": "stdout",
     "output_type": "stream",
     "text": [
      "cuda\n"
     ]
    }
   ],
   "source": [
    "import torch\n",
    "import torch.nn as nn\n",
    "from torch.nn import functional as F\n",
    "device = 'cuda' if torch.cuda.is_available() else 'cpu'\n",
    "print(device)\n",
    "block_size = 64\n",
    "batch_size = 28\n",
    "max_iters=3000\n",
    "learning_rate = 3e-4\n",
    "eval_iters = 100\n",
    "n_embd = 384\n",
    "n_layer= 8\n",
    "n_head= 8\n",
    "dropout = 0.2"
   ]
  },
  {
   "cell_type": "code",
   "execution_count": 28,
   "id": "7674d9a8-2a39-40aa-8fad-5d5f5ace04db",
   "metadata": {},
   "outputs": [
    {
     "name": "stdout",
     "output_type": "stream",
     "text": [
      "3357505\n"
     ]
    }
   ],
   "source": [
    "with open('Script.txt', 'r', encoding='utf-8') as f:\n",
    "          text =f.read()\n",
    "print(len(text))"
   ]
  },
  {
   "cell_type": "code",
   "execution_count": 29,
   "id": "fa380e42-bcfe-4b0e-bf81-e1ee92d5ca80",
   "metadata": {},
   "outputs": [
    {
     "name": "stdout",
     "output_type": "stream",
     "text": [
      "['\\t', '\\n', ' ', '!', '\"', '#', '$', '%', '&', \"'\", '(', ')', '*', '+', ',', '-', '.', '/', '0', '1', '2', '3', '4', '5', '6', '7', '8', '9', ';', '<', '=', '>', '?', 'A', 'B', 'C', 'D', 'E', 'F', 'G', 'H', 'I', 'J', 'K', 'L', 'M', 'N', 'O', 'P', 'Q', 'R', 'S', 'T', 'U', 'V', 'W', 'X', 'Y', 'Z', '[', '\\\\', ']', '_', '`', 'a', 'b', 'c', 'd', 'e', 'f', 'g', 'h', 'i', 'j', 'k', 'l', 'm', 'n', 'o', 'p', 'q', 'r', 's', 't', 'u', 'v', 'w', 'x', 'y', 'z', '{', '}', '~', '\\x91', '\\x92', '\\x93', '\\x94']\n"
     ]
    },
    {
     "data": {
      "text/plain": [
       "97"
      ]
     },
     "execution_count": 29,
     "metadata": {},
     "output_type": "execute_result"
    }
   ],
   "source": [
    "chars= sorted(set(text))\n",
    "print(chars)\n",
    "vocab_size = len(chars)\n",
    "vocab_size"
   ]
  },
  {
   "cell_type": "code",
   "execution_count": 30,
   "id": "5d73f608-e5e9-4e27-a26b-59104d7dfb1e",
   "metadata": {},
   "outputs": [
    {
     "name": "stdout",
     "output_type": "stream",
     "text": [
      "tensor([35, 71, 64, 81, 64, 66, 83, 68, 81,  0, 36, 72, 64, 75, 78, 70, 84, 68,\n",
      "         1, 42, 37, 50, 50, 57,  0,  4, 36, 78,  2, 88, 78, 84,  2, 74, 77, 78,\n",
      "        86,  2, 86, 71, 64, 83,  2, 83, 71, 72, 82,  2, 72, 82,  2, 64, 75, 75,\n",
      "         2, 64, 65, 78, 84, 83, 32,  2, 36, 78,  2, 88, 78, 84,  2, 74, 77, 78,\n",
      "        86, 14,  2, 86, 71, 88,  2, 86, 68, 81, 68,  2, 71, 68, 81, 68, 32,  2,\n",
      "        52, 78,  2, 65, 68,  2, 78, 84, 83, 14])\n"
     ]
    }
   ],
   "source": [
    "string_to_int = {ch:i for i, ch in enumerate(chars) }\n",
    "int_to_string = {i:ch for i, ch in enumerate(chars) }\n",
    "encode = lambda s: [string_to_int[c] for c in s]\n",
    "decode = lambda l: ''. join([int_to_string[i] for i in l])\n",
    "\n",
    "data = torch.tensor(encode(text), dtype=torch.long)\n",
    "print(data[:100])"
   ]
  },
  {
   "cell_type": "code",
   "execution_count": 31,
   "id": "b642da85-d5df-4d86-96ad-e4474946ba81",
   "metadata": {},
   "outputs": [
    {
     "name": "stdout",
     "output_type": "stream",
     "text": [
      "inputs:\n",
      "tensor([[83, 71, 72,  ..., 72, 77, 70],\n",
      "        [78, 83,  2,  ..., 41, 46, 37],\n",
      "        [81, 83, 84,  ..., 78, 82, 82],\n",
      "        ...,\n",
      "        [69, 69, 68,  ..., 82, 88, 81],\n",
      "        [71, 68,  2,  ...,  1, 39, 37],\n",
      "        [68, 67,  2,  ...,  2, 66, 64]], device='cuda:0')\n",
      "targets: \n",
      "tensor([[71, 72, 77,  ..., 77, 70,  2],\n",
      "        [83,  2, 66,  ..., 46, 37,  0],\n",
      "        [83, 84, 77,  ..., 82, 82, 14],\n",
      "        ...,\n",
      "        [69, 68, 68,  ..., 88, 81, 84],\n",
      "        [68,  2, 72,  ..., 39, 37, 47],\n",
      "        [67,  2, 78,  ..., 66, 64, 82]], device='cuda:0')\n"
     ]
    }
   ],
   "source": [
    "n = int(0.8*len(data))\n",
    "train_data = data[:n]\n",
    "val_data = data[n:]\n",
    "\n",
    "def get_batch(split):\n",
    "    data=train_data if split == 'train' else val_data\n",
    "    ix = torch.randint(len(data)-block_size, (batch_size,))\n",
    "    x = torch.stack([data[i:i+block_size] for i in ix])\n",
    "    y = torch.stack([data[i+1:i+block_size+1] for i in ix])\n",
    "    x,y = x.to(device), y.to(device)\n",
    "    return x, y\n",
    "    \n",
    "x, y = get_batch('train')\n",
    "print('inputs:')\n",
    "print(x)\n",
    "print('targets: ')\n",
    "print(y)"
   ]
  },
  {
   "cell_type": "code",
   "execution_count": 32,
   "id": "341211cb-b8cb-4a8c-a9b0-3117be82d3c6",
   "metadata": {},
   "outputs": [],
   "source": [
    "@torch.no_grad()\n",
    "def estimate_loss():\n",
    "    out = {}\n",
    "    model.eval()\n",
    "    for split in ['train', 'val']:\n",
    "        losses = torch.zeros(eval_iters)\n",
    "        for k in range(eval_iters):\n",
    "            X, Y = get_batch(split)\n",
    "            logits, loss = model(X, Y)\n",
    "            losses[k] = loss.item()\n",
    "        out[split] = losses.mean()\n",
    "    model.train()\n",
    "    return out"
   ]
  },
  {
   "cell_type": "code",
   "execution_count": 33,
   "id": "631ed807-c2c5-413b-bec3-434cbc0f87e2",
   "metadata": {},
   "outputs": [],
   "source": [
    "\n",
    "class Head(nn.Module):\n",
    "    \"\"\" one head of self-attention \"\"\"\n",
    "\n",
    "    def __init__(self, head_size):\n",
    "        super().__init__()\n",
    "        self.key = nn.Linear(n_embd, head_size, bias=False)\n",
    "        self.query = nn.Linear(n_embd, head_size, bias=False)\n",
    "        self.value = nn.Linear(n_embd, head_size, bias=False)\n",
    "        self.register_buffer('tril', torch.tril(torch.ones(block_size, block_size)))\n",
    "\n",
    "        self.dropout = nn.Dropout(dropout)\n",
    "\n",
    "    def forward(self, x):\n",
    "        # input of size (batch, time-step, channels)\n",
    "        # output of size (batch, time-step, head size)\n",
    "        B,T,C = x.shape\n",
    "        k = self.key(x)   # (B,T,hs)\n",
    "        q = self.query(x) # (B,T,hs)\n",
    "        # compute attention scores (\"affinities\")\n",
    "        wei = q @ k.transpose(-2,-1) * k.shape[-1]**-0.5 # (B, T, hs) @ (B, hs, T) -> (B, T, T)\n",
    "        wei = wei.masked_fill(self.tril[:T, :T] == 0, float('-inf')) # (B, T, T)\n",
    "        wei = F.softmax(wei, dim=-1) # (B, T, T)\n",
    "        wei = self.dropout(wei)\n",
    "        # perform the weighted aggregation of the values\n",
    "        v = self.value(x) # (B,T,hs)\n",
    "        out = wei @ v # (B, T, T) @ (B, T, hs) -> (B, T, hs)\n",
    "        return out\n",
    "\n",
    "# [1, 0, 0]\n",
    "# [1, 0.6, 0]\n",
    "# [1, 0.6, 0.4]\n",
    "class MultiHeadAttention(nn.Module):\n",
    "    \"\"\" multiple heads of self-attention in parallel \"\"\"\n",
    "\n",
    "    def __init__(self, num_heads, head_size):\n",
    "        super().__init__()\n",
    "        self.heads = nn.ModuleList([Head(head_size) for _ in range(num_heads)])\n",
    "        self.proj = nn.Linear(head_size * num_heads, n_embd)\n",
    "        self.dropout = nn.Dropout(dropout)\n",
    "\n",
    "    def forward(self, x):\n",
    "        out = torch.cat([h(x) for h in self.heads], dim=-1) # (B, T, F) -> (B, T, [h1, h1, h1, h1, h2, h2, h2, h2, h3, h3, h3, h3])\n",
    "        out = self.dropout(self.proj(out))\n",
    "        return out\n",
    "    \n",
    "\n",
    "class FeedFoward(nn.Module):\n",
    "    \"\"\" a simple linear layer followed by a non-linearity \"\"\"\n",
    "\n",
    "    def __init__(self, n_embd):\n",
    "        super().__init__()\n",
    "        self.net = nn.Sequential(\n",
    "            nn.Linear(n_embd, 4 * n_embd),\n",
    "            nn.ReLU(),\n",
    "            nn.Linear(4 * n_embd, n_embd),\n",
    "            nn.Dropout(dropout),\n",
    "        )\n",
    "\n",
    "    def forward(self, x):\n",
    "        return self.net(x)\n",
    "    \n",
    "class Block(nn.Module):\n",
    "    \"\"\" Transformer block: communication followed by computation \"\"\"\n",
    "\n",
    "    def __init__(self, n_embd, n_head):\n",
    "        # n_embd: embedding dimension, n_head: the number of heads we'd like\n",
    "        super().__init__()\n",
    "        head_size = n_embd // n_head\n",
    "        self.sa = MultiHeadAttention(n_head, head_size)\n",
    "        self.ffwd = FeedFoward(n_embd)\n",
    "        self.ln1 = nn.LayerNorm(n_embd)\n",
    "        self.ln2 = nn.LayerNorm(n_embd)\n",
    "\n",
    "    def forward(self, x):\n",
    "        y = self.sa(x)\n",
    "        x = self.ln1(x + y)\n",
    "        y = self.ffwd(x)\n",
    "        x = self.ln2(x + y)\n",
    "        return x\n",
    "    \n",
    "class GPTLanguageModel(nn.Module):\n",
    "    def __init__(self, vocab_size):\n",
    "        super().__init__()\n",
    "        self.token_embedding_table = nn.Embedding(vocab_size, n_embd)\n",
    "        self.position_embedding_table = nn.Embedding(block_size, n_embd)\n",
    "        self.blocks = nn.Sequential(*[Block(n_embd, n_head=n_head) for _ in range(n_layer)])\n",
    "        self.ln_f = nn.LayerNorm(n_embd) # final layer norm\n",
    "        self.lm_head = nn.Linear(n_embd, vocab_size)\n",
    "        \n",
    "        \n",
    "        self.apply(self._init_weights)\n",
    "\n",
    "    def _init_weights(self, module):\n",
    "        if isinstance(module, nn.Linear):\n",
    "            torch.nn.init.normal_(module.weight, mean=0.0, std=0.02)\n",
    "            if module.bias is not None:\n",
    "                torch.nn.init.zeros_(module.bias)\n",
    "        elif isinstance(module, nn.Embedding):\n",
    "            torch.nn.init.normal_(module.weight, mean=0.0, std=0.02)\n",
    "\n",
    "    def forward(self, index, targets=None):\n",
    "        B, T = index.shape\n",
    "        \n",
    "        \n",
    "        # idx and targets are both (B,T) tensor of integers\n",
    "        tok_emb = self.token_embedding_table(index) # (B,T,C)\n",
    "        pos_emb = self.position_embedding_table(torch.arange(T, device=device)) # (T,C)\n",
    "        x = tok_emb + pos_emb # (B,T,C)\n",
    "        x = self.blocks(x) # (B,T,C)\n",
    "        x = self.ln_f(x) # (B,T,C)\n",
    "        logits = self.lm_head(x) # (B,T,vocab_size)\n",
    "        \n",
    "        if targets is None:\n",
    "            loss = None\n",
    "        else:\n",
    "            B, T, C = logits.shape\n",
    "            logits = logits.view(B*T, C)\n",
    "            targets = targets.view(B*T)\n",
    "            loss = F.cross_entropy(logits, targets)\n",
    "        \n",
    "        return logits, loss\n",
    "    \n",
    "    def generate(self, index, max_new_tokens):\n",
    "        # index is (B, T) array of indices in the current context\n",
    "        for _ in range(max_new_tokens):\n",
    "            # crop idx to the last block_size tokens\n",
    "            index_cond = index[:, -block_size:]\n",
    "            # get the predictions\n",
    "            logits, loss = self.forward(index_cond)\n",
    "            # focus only on the last time step\n",
    "            logits = logits[:, -1, :] # becomes (B, C)\n",
    "            # apply softmax to get probabilities\n",
    "            probs = F.softmax(logits, dim=-1) # (B, C)\n",
    "            # sample from the distribution\n",
    "            index_next = torch.multinomial(probs, num_samples=1) # (B, 1)\n",
    "            # append sampled index to the running sequence\n",
    "            index = torch.cat((index, index_next), dim=1) # (B, T+1)\n",
    "        return index\n",
    "\n",
    "model = GPTLanguageModel(vocab_size)\n",
    "# print('loading model parameters...')\n",
    "# with open('model-01.pkl', 'rb') as f:\n",
    "#     model = pickle.load(f)\n",
    "# print('loaded successfully!')\n",
    "m = model.to(device)"
   ]
  },
  {
   "cell_type": "code",
   "execution_count": 34,
   "id": "f7aab1e8-14ca-4563-9551-a7f5eeee5fce",
   "metadata": {},
   "outputs": [
    {
     "name": "stdout",
     "output_type": "stream",
     "text": [
      "step: 0, train loss: 4.654092788696289, val loss: 4.653753757476807\n",
      "step: 100, train loss: 2.3546597957611084, val loss: 2.3944263458251953\n",
      "step: 200, train loss: 2.073500871658325, val loss: 2.1192686557769775\n",
      "step: 300, train loss: 1.917709469795227, val loss: 1.9626259803771973\n",
      "step: 400, train loss: 1.798179268836975, val loss: 1.8418371677398682\n",
      "step: 500, train loss: 1.7343897819519043, val loss: 1.7819987535476685\n",
      "step: 600, train loss: 1.6777398586273193, val loss: 1.725405216217041\n",
      "step: 700, train loss: 1.6193426847457886, val loss: 1.680756688117981\n",
      "step: 800, train loss: 1.590999960899353, val loss: 1.6544233560562134\n",
      "step: 900, train loss: 1.5621061325073242, val loss: 1.6429836750030518\n",
      "step: 1000, train loss: 1.5340019464492798, val loss: 1.6071815490722656\n",
      "step: 1100, train loss: 1.518387794494629, val loss: 1.5982332229614258\n",
      "step: 1200, train loss: 1.5047712326049805, val loss: 1.5847097635269165\n",
      "step: 1300, train loss: 1.480350136756897, val loss: 1.5604884624481201\n",
      "step: 1400, train loss: 1.475888967514038, val loss: 1.536830186843872\n",
      "step: 1500, train loss: 1.4475458860397339, val loss: 1.5238010883331299\n",
      "step: 1600, train loss: 1.424837350845337, val loss: 1.5134353637695312\n",
      "step: 1700, train loss: 1.4314674139022827, val loss: 1.5176758766174316\n",
      "step: 1800, train loss: 1.4118032455444336, val loss: 1.5008682012557983\n",
      "step: 1900, train loss: 1.398756980895996, val loss: 1.477696418762207\n",
      "step: 2000, train loss: 1.3884086608886719, val loss: 1.4950088262557983\n",
      "step: 2100, train loss: 1.3858386278152466, val loss: 1.476406216621399\n",
      "step: 2200, train loss: 1.369166374206543, val loss: 1.4734268188476562\n",
      "step: 2300, train loss: 1.3684271574020386, val loss: 1.4556583166122437\n",
      "step: 2400, train loss: 1.3609281778335571, val loss: 1.4628750085830688\n",
      "step: 2500, train loss: 1.3464051485061646, val loss: 1.4528886079788208\n",
      "step: 2600, train loss: 1.3413320779800415, val loss: 1.4373886585235596\n",
      "step: 2700, train loss: 1.3436229228973389, val loss: 1.4453030824661255\n",
      "step: 2800, train loss: 1.3316354751586914, val loss: 1.4320930242538452\n",
      "step: 2900, train loss: 1.33579683303833, val loss: 1.4366137981414795\n",
      "1.4493330717086792\n"
     ]
    }
   ],
   "source": [
    "optimizer = torch.optim.AdamW(model.parameters(), lr=learning_rate)\n",
    "\n",
    "for iter in range(max_iters):\n",
    "\n",
    "    if iter % eval_iters==0:\n",
    "        losses=estimate_loss()\n",
    "        print(f\"step: {iter}, train loss: {losses['train']}, val loss: {losses['val']}\")\n",
    "    xb, yb = get_batch('train')\n",
    "\n",
    "    logits, loss = model.forward(xb, yb)\n",
    "    optimizer.zero_grad(set_to_none=True)\n",
    "    loss.backward()\n",
    "    optimizer.step()\n",
    "print(loss.item())"
   ]
  },
  {
   "cell_type": "code",
   "execution_count": 39,
   "id": "c536824c-ca26-47c8-8767-ab2e58a26d09",
   "metadata": {},
   "outputs": [
    {
     "name": "stdout",
     "output_type": "stream",
     "text": [
      "\t(looks oce uglichent) I'm very a hampolway dass an luckle.\n",
      "JERRY\tHuh, if you dont know per go sliftel?\n",
      "GEORGE\tI can just look me thing do show Golda stanzed you what she would go head me that? I can't, it be clarl to do the hell tob, I can do it. That's hight, that, readyer.\"\n",
      "JERRY & KRAMER\tGet!\n",
      "KRAMER\tYeah?\n",
      "JERRY\t\"Canter to busy. Elaine, Like, I said I talk....\"\n",
      "KRAMER\t\"Okay.\"\n",
      "ELAINE\t\"Ah, if if that's Jerry wenty avoing an here.\"\n",
      "MONGICE\tget an is for selasy at Knight?\n",
      "JERRY\t\"Hey , ity goves.\"\n",
      "\n"
     ]
    }
   ],
   "source": [
    "%%capture cap\n",
    "context = torch.zeros((1,1), dtype=torch.long, device=device)\n",
    "generated_chars = decode(m.generate(context, max_new_tokens=500)[0].tolist())\n",
    "print(generated_chars)"
   ]
  },
  {
   "cell_type": "code",
   "execution_count": null,
   "id": "1222de85-3be0-42b7-8b81-7b42d143572d",
   "metadata": {},
   "outputs": [],
   "source": []
  },
  {
   "cell_type": "code",
   "execution_count": null,
   "id": "521f3f0f-4d0b-494f-af83-fef7dbc3a285",
   "metadata": {},
   "outputs": [],
   "source": []
  },
  {
   "cell_type": "code",
   "execution_count": null,
   "id": "ca4739b1-970c-4481-b852-7f1be2ae055d",
   "metadata": {},
   "outputs": [],
   "source": []
  },
  {
   "cell_type": "code",
   "execution_count": null,
   "id": "635aebc9-8a87-4cf8-87ad-2fdcfa5a1669",
   "metadata": {},
   "outputs": [],
   "source": []
  },
  {
   "cell_type": "code",
   "execution_count": null,
   "id": "2f40e917-9771-4612-ab90-2b4bdcc31322",
   "metadata": {},
   "outputs": [],
   "source": []
  }
 ],
 "metadata": {
  "kernelspec": {
   "display_name": "cuda=gpt",
   "language": "python",
   "name": "cuda"
  },
  "language_info": {
   "codemirror_mode": {
    "name": "ipython",
    "version": 3
   },
   "file_extension": ".py",
   "mimetype": "text/x-python",
   "name": "python",
   "nbconvert_exporter": "python",
   "pygments_lexer": "ipython3",
   "version": "3.11.5"
  }
 },
 "nbformat": 4,
 "nbformat_minor": 5
}
